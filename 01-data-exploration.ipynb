{
 "metadata": {
  "language_info": {
   "codemirror_mode": {
    "name": "ipython",
    "version": 3
   },
   "file_extension": ".py",
   "mimetype": "text/x-python",
   "name": "python",
   "nbconvert_exporter": "python",
   "pygments_lexer": "ipython3",
   "version": "3.6.9-final"
  },
  "orig_nbformat": 2,
  "kernelspec": {
   "name": "python3",
   "display_name": "Python 3.6.9 64-bit ('venv')",
   "metadata": {
    "interpreter": {
     "hash": "83994b291e296041125d04e10ff3076f4630fef5eace75229430f8398b344d7d"
    }
   }
  }
 },
 "nbformat": 4,
 "nbformat_minor": 2,
 "cells": [
  {
   "cell_type": "code",
   "execution_count": 1,
   "metadata": {},
   "outputs": [],
   "source": [
    "import numpy as np\n",
    "import pandas as pd\n",
    "\n",
    "pd.set_option('display.max_columns', 30)\n",
    "pd.set_option('display.max_rows', 20)"
   ]
  },
  {
   "source": [
    "# 1. Exploratory Data Analysis\n",
    "\n",
    "We start every analysis by importing our datasets"
   ],
   "cell_type": "markdown",
   "metadata": {}
  },
  {
   "source": [
    "## 1.1 Importing data"
   ],
   "cell_type": "markdown",
   "metadata": {}
  },
  {
   "cell_type": "code",
   "execution_count": 2,
   "metadata": {},
   "outputs": [],
   "source": [
    "household = pd.read_csv('data/Household.csv', sep=';')\n",
    "person = pd.read_csv('data/Person.csv', sep=';')\n",
    "stage = pd.read_csv('data/Stage.csv', sep=';')\n",
    "trip = pd.read_csv('data/Trip.csv', sep=';')"
   ]
  },
  {
   "cell_type": "code",
   "execution_count": 3,
   "metadata": {},
   "outputs": [
    {
     "output_type": "execute_result",
     "data": {
      "text/plain": [
       "   person_id  household_id                 age  gender  \\\n",
       "0          1             3  60 to 69 years old    Male   \n",
       "1          2             3  50 to 59 years old  Female   \n",
       "2          3             4  40 to 49 years old    Male   \n",
       "3          4             4  18 to 19 years old  Female   \n",
       "4          5             4  10 to 14 years old    Male   \n",
       "\n",
       "                            education_level            area_of_occupation  \\\n",
       "0  Incomplete lower-secondary/middle school                       Retired   \n",
       "1  Incomplete lower-secondary/middle school                         Other   \n",
       "2  Incomplete lower-secondary/middle school  Self-employed (professional)   \n",
       "3           Incomplete undergraduate school     Student (regular courses)   \n",
       "4  Incomplete lower-secondary/middle school     Student (regular courses)   \n",
       "\n",
       "  has_driver_license        is_disabled sector_if_private_worker  \\\n",
       "0                Yes  Other impairments           Not applicable   \n",
       "1                 No       Not disabled           Not applicable   \n",
       "2                Yes       Not disabled           Not applicable   \n",
       "3                Yes       Not disabled           Not applicable   \n",
       "4                 No       Not disabled           Not applicable   \n",
       "\n",
       "  sector_if_civil_servant  expf_person  \n",
       "0          Not applicable      35.6286  \n",
       "1          Not applicable      35.6286  \n",
       "2          Not applicable      32.6147  \n",
       "3          Not applicable      32.6147  \n",
       "4          Not applicable      32.6147  "
      ],
      "text/html": "<div>\n<style scoped>\n    .dataframe tbody tr th:only-of-type {\n        vertical-align: middle;\n    }\n\n    .dataframe tbody tr th {\n        vertical-align: top;\n    }\n\n    .dataframe thead th {\n        text-align: right;\n    }\n</style>\n<table border=\"1\" class=\"dataframe\">\n  <thead>\n    <tr style=\"text-align: right;\">\n      <th></th>\n      <th>person_id</th>\n      <th>household_id</th>\n      <th>age</th>\n      <th>gender</th>\n      <th>education_level</th>\n      <th>area_of_occupation</th>\n      <th>has_driver_license</th>\n      <th>is_disabled</th>\n      <th>sector_if_private_worker</th>\n      <th>sector_if_civil_servant</th>\n      <th>expf_person</th>\n    </tr>\n  </thead>\n  <tbody>\n    <tr>\n      <th>0</th>\n      <td>1</td>\n      <td>3</td>\n      <td>60 to 69 years old</td>\n      <td>Male</td>\n      <td>Incomplete lower-secondary/middle school</td>\n      <td>Retired</td>\n      <td>Yes</td>\n      <td>Other impairments</td>\n      <td>Not applicable</td>\n      <td>Not applicable</td>\n      <td>35.6286</td>\n    </tr>\n    <tr>\n      <th>1</th>\n      <td>2</td>\n      <td>3</td>\n      <td>50 to 59 years old</td>\n      <td>Female</td>\n      <td>Incomplete lower-secondary/middle school</td>\n      <td>Other</td>\n      <td>No</td>\n      <td>Not disabled</td>\n      <td>Not applicable</td>\n      <td>Not applicable</td>\n      <td>35.6286</td>\n    </tr>\n    <tr>\n      <th>2</th>\n      <td>3</td>\n      <td>4</td>\n      <td>40 to 49 years old</td>\n      <td>Male</td>\n      <td>Incomplete lower-secondary/middle school</td>\n      <td>Self-employed (professional)</td>\n      <td>Yes</td>\n      <td>Not disabled</td>\n      <td>Not applicable</td>\n      <td>Not applicable</td>\n      <td>32.6147</td>\n    </tr>\n    <tr>\n      <th>3</th>\n      <td>4</td>\n      <td>4</td>\n      <td>18 to 19 years old</td>\n      <td>Female</td>\n      <td>Incomplete undergraduate school</td>\n      <td>Student (regular courses)</td>\n      <td>Yes</td>\n      <td>Not disabled</td>\n      <td>Not applicable</td>\n      <td>Not applicable</td>\n      <td>32.6147</td>\n    </tr>\n    <tr>\n      <th>4</th>\n      <td>5</td>\n      <td>4</td>\n      <td>10 to 14 years old</td>\n      <td>Male</td>\n      <td>Incomplete lower-secondary/middle school</td>\n      <td>Student (regular courses)</td>\n      <td>No</td>\n      <td>Not disabled</td>\n      <td>Not applicable</td>\n      <td>Not applicable</td>\n      <td>32.6147</td>\n    </tr>\n  </tbody>\n</table>\n</div>"
     },
     "metadata": {},
     "execution_count": 3
    }
   ],
   "source": [
    "# Printing first 5 lines of the dataframe\n",
    "person.head(5)"
   ]
  },
  {
   "cell_type": "code",
   "execution_count": 4,
   "metadata": {},
   "outputs": [
    {
     "output_type": "execute_result",
     "data": {
      "text/plain": [
       "(61358, 11)"
      ]
     },
     "metadata": {},
     "execution_count": 4
    }
   ],
   "source": [
    "# Returning the shape (rows, columns) of the Dataframe\n",
    "person.shape"
   ]
  },
  {
   "source": [
    "## 1.2 Filtering data"
   ],
   "cell_type": "markdown",
   "metadata": {}
  },
  {
   "cell_type": "code",
   "execution_count": 5,
   "metadata": {},
   "outputs": [
    {
     "output_type": "execute_result",
     "data": {
      "text/plain": [
       "person_id                                                 4\n",
       "household_id                                              4\n",
       "age                                      18 to 19 years old\n",
       "gender                                               Female\n",
       "education_level             Incomplete undergraduate school\n",
       "area_of_occupation                Student (regular courses)\n",
       "has_driver_license                                      Yes\n",
       "is_disabled                                    Not disabled\n",
       "sector_if_private_worker                     Not applicable\n",
       "sector_if_civil_servant                      Not applicable\n",
       "expf_person                                         32.6147\n",
       "Name: 3, dtype: object"
      ]
     },
     "metadata": {},
     "execution_count": 5
    }
   ],
   "source": [
    "# Returning the instance with index(row)=3\n",
    "person.loc[3]"
   ]
  },
  {
   "cell_type": "code",
   "execution_count": 6,
   "metadata": {},
   "outputs": [
    {
     "output_type": "execute_result",
     "data": {
      "text/plain": [
       "   person_id  household_id                 age  gender  \\\n",
       "0          1             3  60 to 69 years old    Male   \n",
       "1          2             3  50 to 59 years old  Female   \n",
       "2          3             4  40 to 49 years old    Male   \n",
       "3          4             4  18 to 19 years old  Female   \n",
       "\n",
       "                            education_level            area_of_occupation  \\\n",
       "0  Incomplete lower-secondary/middle school                       Retired   \n",
       "1  Incomplete lower-secondary/middle school                         Other   \n",
       "2  Incomplete lower-secondary/middle school  Self-employed (professional)   \n",
       "3           Incomplete undergraduate school     Student (regular courses)   \n",
       "\n",
       "  has_driver_license        is_disabled sector_if_private_worker  \\\n",
       "0                Yes  Other impairments           Not applicable   \n",
       "1                 No       Not disabled           Not applicable   \n",
       "2                Yes       Not disabled           Not applicable   \n",
       "3                Yes       Not disabled           Not applicable   \n",
       "\n",
       "  sector_if_civil_servant  expf_person  \n",
       "0          Not applicable      35.6286  \n",
       "1          Not applicable      35.6286  \n",
       "2          Not applicable      32.6147  \n",
       "3          Not applicable      32.6147  "
      ],
      "text/html": "<div>\n<style scoped>\n    .dataframe tbody tr th:only-of-type {\n        vertical-align: middle;\n    }\n\n    .dataframe tbody tr th {\n        vertical-align: top;\n    }\n\n    .dataframe thead th {\n        text-align: right;\n    }\n</style>\n<table border=\"1\" class=\"dataframe\">\n  <thead>\n    <tr style=\"text-align: right;\">\n      <th></th>\n      <th>person_id</th>\n      <th>household_id</th>\n      <th>age</th>\n      <th>gender</th>\n      <th>education_level</th>\n      <th>area_of_occupation</th>\n      <th>has_driver_license</th>\n      <th>is_disabled</th>\n      <th>sector_if_private_worker</th>\n      <th>sector_if_civil_servant</th>\n      <th>expf_person</th>\n    </tr>\n  </thead>\n  <tbody>\n    <tr>\n      <th>0</th>\n      <td>1</td>\n      <td>3</td>\n      <td>60 to 69 years old</td>\n      <td>Male</td>\n      <td>Incomplete lower-secondary/middle school</td>\n      <td>Retired</td>\n      <td>Yes</td>\n      <td>Other impairments</td>\n      <td>Not applicable</td>\n      <td>Not applicable</td>\n      <td>35.6286</td>\n    </tr>\n    <tr>\n      <th>1</th>\n      <td>2</td>\n      <td>3</td>\n      <td>50 to 59 years old</td>\n      <td>Female</td>\n      <td>Incomplete lower-secondary/middle school</td>\n      <td>Other</td>\n      <td>No</td>\n      <td>Not disabled</td>\n      <td>Not applicable</td>\n      <td>Not applicable</td>\n      <td>35.6286</td>\n    </tr>\n    <tr>\n      <th>2</th>\n      <td>3</td>\n      <td>4</td>\n      <td>40 to 49 years old</td>\n      <td>Male</td>\n      <td>Incomplete lower-secondary/middle school</td>\n      <td>Self-employed (professional)</td>\n      <td>Yes</td>\n      <td>Not disabled</td>\n      <td>Not applicable</td>\n      <td>Not applicable</td>\n      <td>32.6147</td>\n    </tr>\n    <tr>\n      <th>3</th>\n      <td>4</td>\n      <td>4</td>\n      <td>18 to 19 years old</td>\n      <td>Female</td>\n      <td>Incomplete undergraduate school</td>\n      <td>Student (regular courses)</td>\n      <td>Yes</td>\n      <td>Not disabled</td>\n      <td>Not applicable</td>\n      <td>Not applicable</td>\n      <td>32.6147</td>\n    </tr>\n  </tbody>\n</table>\n</div>"
     },
     "metadata": {},
     "execution_count": 6
    }
   ],
   "source": [
    "# Returning the four first instances (row indices 0-3)\n",
    "person.loc[0:3]"
   ]
  },
  {
   "cell_type": "code",
   "execution_count": 7,
   "metadata": {},
   "outputs": [
    {
     "output_type": "execute_result",
     "data": {
      "text/plain": [
       "       person_id  household_id                     age  gender  \\\n",
       "0              1             3      60 to 69 years old    Male   \n",
       "14            21            37      60 to 69 years old  Female   \n",
       "26            36            48      60 to 69 years old    Male   \n",
       "29            39            50      60 to 69 years old    Male   \n",
       "40            51            72      50 to 59 years old  Female   \n",
       "...          ...           ...                     ...     ...   \n",
       "61343      74832        345421      70 to 79 years old    Male   \n",
       "61344      74833        345421      70 to 79 years old  Female   \n",
       "61354      74843        345423  More than 80 years old    Male   \n",
       "61355      74844        345423      70 to 79 years old  Female   \n",
       "61357      74846        345424  More than 80 years old    Male   \n",
       "\n",
       "                                education_level area_of_occupation  \\\n",
       "0      Incomplete lower-secondary/middle school            Retired   \n",
       "14         Complete upper-secondary/high school            Retired   \n",
       "26         Complete upper-secondary/high school            Retired   \n",
       "29       Complete lower-secondary/middle school            Retired   \n",
       "40                Complete undergraduate school            Retired   \n",
       "...                                         ...                ...   \n",
       "61343                  Complete graduate school            Retired   \n",
       "61344                  Complete graduate school            Retired   \n",
       "61354                  Complete graduate school            Retired   \n",
       "61355             Complete undergraduate school            Retired   \n",
       "61357                  Complete graduate school            Retired   \n",
       "\n",
       "      has_driver_license                                        is_disabled  \\\n",
       "0                    Yes                                  Other impairments   \n",
       "14                    No  Permanent physical difficulty to walk or to cl...   \n",
       "26                   Yes                                       Not disabled   \n",
       "29                   Yes                                       Not disabled   \n",
       "40                   Yes                                       Not disabled   \n",
       "...                  ...                                                ...   \n",
       "61343                Yes                                       Not disabled   \n",
       "61344                Yes                                       Not disabled   \n",
       "61354                Yes                                       Not disabled   \n",
       "61355                 No                                       Not disabled   \n",
       "61357                Yes                                       Not disabled   \n",
       "\n",
       "      sector_if_private_worker sector_if_civil_servant  expf_person  \n",
       "0               Not applicable          Not applicable      35.6286  \n",
       "14              Not applicable          Not applicable      51.0876  \n",
       "26              Not applicable          Not applicable      61.5311  \n",
       "29              Not applicable          Not applicable      54.1570  \n",
       "40              Not applicable          Not applicable      41.4124  \n",
       "...                        ...                     ...          ...  \n",
       "61343           Not applicable          Not applicable      57.8228  \n",
       "61344           Not applicable          Not applicable      57.8228  \n",
       "61354           Not applicable          Not applicable      33.4953  \n",
       "61355           Not applicable          Not applicable      33.4953  \n",
       "61357           Not applicable          Not applicable      35.2705  \n",
       "\n",
       "[7220 rows x 11 columns]"
      ],
      "text/html": "<div>\n<style scoped>\n    .dataframe tbody tr th:only-of-type {\n        vertical-align: middle;\n    }\n\n    .dataframe tbody tr th {\n        vertical-align: top;\n    }\n\n    .dataframe thead th {\n        text-align: right;\n    }\n</style>\n<table border=\"1\" class=\"dataframe\">\n  <thead>\n    <tr style=\"text-align: right;\">\n      <th></th>\n      <th>person_id</th>\n      <th>household_id</th>\n      <th>age</th>\n      <th>gender</th>\n      <th>education_level</th>\n      <th>area_of_occupation</th>\n      <th>has_driver_license</th>\n      <th>is_disabled</th>\n      <th>sector_if_private_worker</th>\n      <th>sector_if_civil_servant</th>\n      <th>expf_person</th>\n    </tr>\n  </thead>\n  <tbody>\n    <tr>\n      <th>0</th>\n      <td>1</td>\n      <td>3</td>\n      <td>60 to 69 years old</td>\n      <td>Male</td>\n      <td>Incomplete lower-secondary/middle school</td>\n      <td>Retired</td>\n      <td>Yes</td>\n      <td>Other impairments</td>\n      <td>Not applicable</td>\n      <td>Not applicable</td>\n      <td>35.6286</td>\n    </tr>\n    <tr>\n      <th>14</th>\n      <td>21</td>\n      <td>37</td>\n      <td>60 to 69 years old</td>\n      <td>Female</td>\n      <td>Complete upper-secondary/high school</td>\n      <td>Retired</td>\n      <td>No</td>\n      <td>Permanent physical difficulty to walk or to cl...</td>\n      <td>Not applicable</td>\n      <td>Not applicable</td>\n      <td>51.0876</td>\n    </tr>\n    <tr>\n      <th>26</th>\n      <td>36</td>\n      <td>48</td>\n      <td>60 to 69 years old</td>\n      <td>Male</td>\n      <td>Complete upper-secondary/high school</td>\n      <td>Retired</td>\n      <td>Yes</td>\n      <td>Not disabled</td>\n      <td>Not applicable</td>\n      <td>Not applicable</td>\n      <td>61.5311</td>\n    </tr>\n    <tr>\n      <th>29</th>\n      <td>39</td>\n      <td>50</td>\n      <td>60 to 69 years old</td>\n      <td>Male</td>\n      <td>Complete lower-secondary/middle school</td>\n      <td>Retired</td>\n      <td>Yes</td>\n      <td>Not disabled</td>\n      <td>Not applicable</td>\n      <td>Not applicable</td>\n      <td>54.1570</td>\n    </tr>\n    <tr>\n      <th>40</th>\n      <td>51</td>\n      <td>72</td>\n      <td>50 to 59 years old</td>\n      <td>Female</td>\n      <td>Complete undergraduate school</td>\n      <td>Retired</td>\n      <td>Yes</td>\n      <td>Not disabled</td>\n      <td>Not applicable</td>\n      <td>Not applicable</td>\n      <td>41.4124</td>\n    </tr>\n    <tr>\n      <th>...</th>\n      <td>...</td>\n      <td>...</td>\n      <td>...</td>\n      <td>...</td>\n      <td>...</td>\n      <td>...</td>\n      <td>...</td>\n      <td>...</td>\n      <td>...</td>\n      <td>...</td>\n      <td>...</td>\n    </tr>\n    <tr>\n      <th>61343</th>\n      <td>74832</td>\n      <td>345421</td>\n      <td>70 to 79 years old</td>\n      <td>Male</td>\n      <td>Complete graduate school</td>\n      <td>Retired</td>\n      <td>Yes</td>\n      <td>Not disabled</td>\n      <td>Not applicable</td>\n      <td>Not applicable</td>\n      <td>57.8228</td>\n    </tr>\n    <tr>\n      <th>61344</th>\n      <td>74833</td>\n      <td>345421</td>\n      <td>70 to 79 years old</td>\n      <td>Female</td>\n      <td>Complete graduate school</td>\n      <td>Retired</td>\n      <td>Yes</td>\n      <td>Not disabled</td>\n      <td>Not applicable</td>\n      <td>Not applicable</td>\n      <td>57.8228</td>\n    </tr>\n    <tr>\n      <th>61354</th>\n      <td>74843</td>\n      <td>345423</td>\n      <td>More than 80 years old</td>\n      <td>Male</td>\n      <td>Complete graduate school</td>\n      <td>Retired</td>\n      <td>Yes</td>\n      <td>Not disabled</td>\n      <td>Not applicable</td>\n      <td>Not applicable</td>\n      <td>33.4953</td>\n    </tr>\n    <tr>\n      <th>61355</th>\n      <td>74844</td>\n      <td>345423</td>\n      <td>70 to 79 years old</td>\n      <td>Female</td>\n      <td>Complete undergraduate school</td>\n      <td>Retired</td>\n      <td>No</td>\n      <td>Not disabled</td>\n      <td>Not applicable</td>\n      <td>Not applicable</td>\n      <td>33.4953</td>\n    </tr>\n    <tr>\n      <th>61357</th>\n      <td>74846</td>\n      <td>345424</td>\n      <td>More than 80 years old</td>\n      <td>Male</td>\n      <td>Complete graduate school</td>\n      <td>Retired</td>\n      <td>Yes</td>\n      <td>Not disabled</td>\n      <td>Not applicable</td>\n      <td>Not applicable</td>\n      <td>35.2705</td>\n    </tr>\n  </tbody>\n</table>\n<p>7220 rows × 11 columns</p>\n</div>"
     },
     "metadata": {},
     "execution_count": 7
    }
   ],
   "source": [
    "# Filtering per column value (1st option)\n",
    "person[person['area_of_occupation']=='Retired']"
   ]
  },
  {
   "cell_type": "code",
   "execution_count": 8,
   "metadata": {},
   "outputs": [
    {
     "output_type": "execute_result",
     "data": {
      "text/plain": [
       "       person_id  household_id                     age  gender  \\\n",
       "0              1             3      60 to 69 years old    Male   \n",
       "14            21            37      60 to 69 years old  Female   \n",
       "26            36            48      60 to 69 years old    Male   \n",
       "29            39            50      60 to 69 years old    Male   \n",
       "40            51            72      50 to 59 years old  Female   \n",
       "...          ...           ...                     ...     ...   \n",
       "61343      74832        345421      70 to 79 years old    Male   \n",
       "61344      74833        345421      70 to 79 years old  Female   \n",
       "61354      74843        345423  More than 80 years old    Male   \n",
       "61355      74844        345423      70 to 79 years old  Female   \n",
       "61357      74846        345424  More than 80 years old    Male   \n",
       "\n",
       "                                education_level area_of_occupation  \\\n",
       "0      Incomplete lower-secondary/middle school            Retired   \n",
       "14         Complete upper-secondary/high school            Retired   \n",
       "26         Complete upper-secondary/high school            Retired   \n",
       "29       Complete lower-secondary/middle school            Retired   \n",
       "40                Complete undergraduate school            Retired   \n",
       "...                                         ...                ...   \n",
       "61343                  Complete graduate school            Retired   \n",
       "61344                  Complete graduate school            Retired   \n",
       "61354                  Complete graduate school            Retired   \n",
       "61355             Complete undergraduate school            Retired   \n",
       "61357                  Complete graduate school            Retired   \n",
       "\n",
       "      has_driver_license                                        is_disabled  \\\n",
       "0                    Yes                                  Other impairments   \n",
       "14                    No  Permanent physical difficulty to walk or to cl...   \n",
       "26                   Yes                                       Not disabled   \n",
       "29                   Yes                                       Not disabled   \n",
       "40                   Yes                                       Not disabled   \n",
       "...                  ...                                                ...   \n",
       "61343                Yes                                       Not disabled   \n",
       "61344                Yes                                       Not disabled   \n",
       "61354                Yes                                       Not disabled   \n",
       "61355                 No                                       Not disabled   \n",
       "61357                Yes                                       Not disabled   \n",
       "\n",
       "      sector_if_private_worker sector_if_civil_servant  expf_person  \n",
       "0               Not applicable          Not applicable      35.6286  \n",
       "14              Not applicable          Not applicable      51.0876  \n",
       "26              Not applicable          Not applicable      61.5311  \n",
       "29              Not applicable          Not applicable      54.1570  \n",
       "40              Not applicable          Not applicable      41.4124  \n",
       "...                        ...                     ...          ...  \n",
       "61343           Not applicable          Not applicable      57.8228  \n",
       "61344           Not applicable          Not applicable      57.8228  \n",
       "61354           Not applicable          Not applicable      33.4953  \n",
       "61355           Not applicable          Not applicable      33.4953  \n",
       "61357           Not applicable          Not applicable      35.2705  \n",
       "\n",
       "[7220 rows x 11 columns]"
      ],
      "text/html": "<div>\n<style scoped>\n    .dataframe tbody tr th:only-of-type {\n        vertical-align: middle;\n    }\n\n    .dataframe tbody tr th {\n        vertical-align: top;\n    }\n\n    .dataframe thead th {\n        text-align: right;\n    }\n</style>\n<table border=\"1\" class=\"dataframe\">\n  <thead>\n    <tr style=\"text-align: right;\">\n      <th></th>\n      <th>person_id</th>\n      <th>household_id</th>\n      <th>age</th>\n      <th>gender</th>\n      <th>education_level</th>\n      <th>area_of_occupation</th>\n      <th>has_driver_license</th>\n      <th>is_disabled</th>\n      <th>sector_if_private_worker</th>\n      <th>sector_if_civil_servant</th>\n      <th>expf_person</th>\n    </tr>\n  </thead>\n  <tbody>\n    <tr>\n      <th>0</th>\n      <td>1</td>\n      <td>3</td>\n      <td>60 to 69 years old</td>\n      <td>Male</td>\n      <td>Incomplete lower-secondary/middle school</td>\n      <td>Retired</td>\n      <td>Yes</td>\n      <td>Other impairments</td>\n      <td>Not applicable</td>\n      <td>Not applicable</td>\n      <td>35.6286</td>\n    </tr>\n    <tr>\n      <th>14</th>\n      <td>21</td>\n      <td>37</td>\n      <td>60 to 69 years old</td>\n      <td>Female</td>\n      <td>Complete upper-secondary/high school</td>\n      <td>Retired</td>\n      <td>No</td>\n      <td>Permanent physical difficulty to walk or to cl...</td>\n      <td>Not applicable</td>\n      <td>Not applicable</td>\n      <td>51.0876</td>\n    </tr>\n    <tr>\n      <th>26</th>\n      <td>36</td>\n      <td>48</td>\n      <td>60 to 69 years old</td>\n      <td>Male</td>\n      <td>Complete upper-secondary/high school</td>\n      <td>Retired</td>\n      <td>Yes</td>\n      <td>Not disabled</td>\n      <td>Not applicable</td>\n      <td>Not applicable</td>\n      <td>61.5311</td>\n    </tr>\n    <tr>\n      <th>29</th>\n      <td>39</td>\n      <td>50</td>\n      <td>60 to 69 years old</td>\n      <td>Male</td>\n      <td>Complete lower-secondary/middle school</td>\n      <td>Retired</td>\n      <td>Yes</td>\n      <td>Not disabled</td>\n      <td>Not applicable</td>\n      <td>Not applicable</td>\n      <td>54.1570</td>\n    </tr>\n    <tr>\n      <th>40</th>\n      <td>51</td>\n      <td>72</td>\n      <td>50 to 59 years old</td>\n      <td>Female</td>\n      <td>Complete undergraduate school</td>\n      <td>Retired</td>\n      <td>Yes</td>\n      <td>Not disabled</td>\n      <td>Not applicable</td>\n      <td>Not applicable</td>\n      <td>41.4124</td>\n    </tr>\n    <tr>\n      <th>...</th>\n      <td>...</td>\n      <td>...</td>\n      <td>...</td>\n      <td>...</td>\n      <td>...</td>\n      <td>...</td>\n      <td>...</td>\n      <td>...</td>\n      <td>...</td>\n      <td>...</td>\n      <td>...</td>\n    </tr>\n    <tr>\n      <th>61343</th>\n      <td>74832</td>\n      <td>345421</td>\n      <td>70 to 79 years old</td>\n      <td>Male</td>\n      <td>Complete graduate school</td>\n      <td>Retired</td>\n      <td>Yes</td>\n      <td>Not disabled</td>\n      <td>Not applicable</td>\n      <td>Not applicable</td>\n      <td>57.8228</td>\n    </tr>\n    <tr>\n      <th>61344</th>\n      <td>74833</td>\n      <td>345421</td>\n      <td>70 to 79 years old</td>\n      <td>Female</td>\n      <td>Complete graduate school</td>\n      <td>Retired</td>\n      <td>Yes</td>\n      <td>Not disabled</td>\n      <td>Not applicable</td>\n      <td>Not applicable</td>\n      <td>57.8228</td>\n    </tr>\n    <tr>\n      <th>61354</th>\n      <td>74843</td>\n      <td>345423</td>\n      <td>More than 80 years old</td>\n      <td>Male</td>\n      <td>Complete graduate school</td>\n      <td>Retired</td>\n      <td>Yes</td>\n      <td>Not disabled</td>\n      <td>Not applicable</td>\n      <td>Not applicable</td>\n      <td>33.4953</td>\n    </tr>\n    <tr>\n      <th>61355</th>\n      <td>74844</td>\n      <td>345423</td>\n      <td>70 to 79 years old</td>\n      <td>Female</td>\n      <td>Complete undergraduate school</td>\n      <td>Retired</td>\n      <td>No</td>\n      <td>Not disabled</td>\n      <td>Not applicable</td>\n      <td>Not applicable</td>\n      <td>33.4953</td>\n    </tr>\n    <tr>\n      <th>61357</th>\n      <td>74846</td>\n      <td>345424</td>\n      <td>More than 80 years old</td>\n      <td>Male</td>\n      <td>Complete graduate school</td>\n      <td>Retired</td>\n      <td>Yes</td>\n      <td>Not disabled</td>\n      <td>Not applicable</td>\n      <td>Not applicable</td>\n      <td>35.2705</td>\n    </tr>\n  </tbody>\n</table>\n<p>7220 rows × 11 columns</p>\n</div>"
     },
     "metadata": {},
     "execution_count": 8
    }
   ],
   "source": [
    "# Filtering per column value (2nd option)\n",
    "person.query('area_of_occupation==\"Retired\"')"
   ]
  },
  {
   "cell_type": "code",
   "execution_count": 9,
   "metadata": {},
   "outputs": [
    {
     "output_type": "execute_result",
     "data": {
      "text/plain": [
       "       person_id  household_id    age  gender  education_level  \\\n",
       "0          False         False  False   False            False   \n",
       "1          False         False  False   False            False   \n",
       "2          False         False  False   False            False   \n",
       "3          False         False  False   False            False   \n",
       "4          False         False  False   False            False   \n",
       "...          ...           ...    ...     ...              ...   \n",
       "61353      False         False  False   False            False   \n",
       "61354      False         False  False   False            False   \n",
       "61355      False         False  False   False            False   \n",
       "61356      False         False  False   False            False   \n",
       "61357      False         False  False   False            False   \n",
       "\n",
       "       area_of_occupation  has_driver_license  is_disabled  \\\n",
       "0                   False               False        False   \n",
       "1                   False               False        False   \n",
       "2                   False               False        False   \n",
       "3                   False               False        False   \n",
       "4                   False               False        False   \n",
       "...                   ...                 ...          ...   \n",
       "61353               False               False        False   \n",
       "61354               False               False        False   \n",
       "61355               False               False        False   \n",
       "61356               False               False        False   \n",
       "61357               False               False        False   \n",
       "\n",
       "       sector_if_private_worker  sector_if_civil_servant  expf_person  \n",
       "0                         False                    False        False  \n",
       "1                         False                    False        False  \n",
       "2                         False                    False        False  \n",
       "3                         False                    False        False  \n",
       "4                         False                    False        False  \n",
       "...                         ...                      ...          ...  \n",
       "61353                     False                    False        False  \n",
       "61354                     False                    False        False  \n",
       "61355                     False                    False        False  \n",
       "61356                     False                    False        False  \n",
       "61357                     False                    False        False  \n",
       "\n",
       "[61358 rows x 11 columns]"
      ],
      "text/html": "<div>\n<style scoped>\n    .dataframe tbody tr th:only-of-type {\n        vertical-align: middle;\n    }\n\n    .dataframe tbody tr th {\n        vertical-align: top;\n    }\n\n    .dataframe thead th {\n        text-align: right;\n    }\n</style>\n<table border=\"1\" class=\"dataframe\">\n  <thead>\n    <tr style=\"text-align: right;\">\n      <th></th>\n      <th>person_id</th>\n      <th>household_id</th>\n      <th>age</th>\n      <th>gender</th>\n      <th>education_level</th>\n      <th>area_of_occupation</th>\n      <th>has_driver_license</th>\n      <th>is_disabled</th>\n      <th>sector_if_private_worker</th>\n      <th>sector_if_civil_servant</th>\n      <th>expf_person</th>\n    </tr>\n  </thead>\n  <tbody>\n    <tr>\n      <th>0</th>\n      <td>False</td>\n      <td>False</td>\n      <td>False</td>\n      <td>False</td>\n      <td>False</td>\n      <td>False</td>\n      <td>False</td>\n      <td>False</td>\n      <td>False</td>\n      <td>False</td>\n      <td>False</td>\n    </tr>\n    <tr>\n      <th>1</th>\n      <td>False</td>\n      <td>False</td>\n      <td>False</td>\n      <td>False</td>\n      <td>False</td>\n      <td>False</td>\n      <td>False</td>\n      <td>False</td>\n      <td>False</td>\n      <td>False</td>\n      <td>False</td>\n    </tr>\n    <tr>\n      <th>2</th>\n      <td>False</td>\n      <td>False</td>\n      <td>False</td>\n      <td>False</td>\n      <td>False</td>\n      <td>False</td>\n      <td>False</td>\n      <td>False</td>\n      <td>False</td>\n      <td>False</td>\n      <td>False</td>\n    </tr>\n    <tr>\n      <th>3</th>\n      <td>False</td>\n      <td>False</td>\n      <td>False</td>\n      <td>False</td>\n      <td>False</td>\n      <td>False</td>\n      <td>False</td>\n      <td>False</td>\n      <td>False</td>\n      <td>False</td>\n      <td>False</td>\n    </tr>\n    <tr>\n      <th>4</th>\n      <td>False</td>\n      <td>False</td>\n      <td>False</td>\n      <td>False</td>\n      <td>False</td>\n      <td>False</td>\n      <td>False</td>\n      <td>False</td>\n      <td>False</td>\n      <td>False</td>\n      <td>False</td>\n    </tr>\n    <tr>\n      <th>...</th>\n      <td>...</td>\n      <td>...</td>\n      <td>...</td>\n      <td>...</td>\n      <td>...</td>\n      <td>...</td>\n      <td>...</td>\n      <td>...</td>\n      <td>...</td>\n      <td>...</td>\n      <td>...</td>\n    </tr>\n    <tr>\n      <th>61353</th>\n      <td>False</td>\n      <td>False</td>\n      <td>False</td>\n      <td>False</td>\n      <td>False</td>\n      <td>False</td>\n      <td>False</td>\n      <td>False</td>\n      <td>False</td>\n      <td>False</td>\n      <td>False</td>\n    </tr>\n    <tr>\n      <th>61354</th>\n      <td>False</td>\n      <td>False</td>\n      <td>False</td>\n      <td>False</td>\n      <td>False</td>\n      <td>False</td>\n      <td>False</td>\n      <td>False</td>\n      <td>False</td>\n      <td>False</td>\n      <td>False</td>\n    </tr>\n    <tr>\n      <th>61355</th>\n      <td>False</td>\n      <td>False</td>\n      <td>False</td>\n      <td>False</td>\n      <td>False</td>\n      <td>False</td>\n      <td>False</td>\n      <td>False</td>\n      <td>False</td>\n      <td>False</td>\n      <td>False</td>\n    </tr>\n    <tr>\n      <th>61356</th>\n      <td>False</td>\n      <td>False</td>\n      <td>False</td>\n      <td>False</td>\n      <td>False</td>\n      <td>False</td>\n      <td>False</td>\n      <td>False</td>\n      <td>False</td>\n      <td>False</td>\n      <td>False</td>\n    </tr>\n    <tr>\n      <th>61357</th>\n      <td>False</td>\n      <td>False</td>\n      <td>False</td>\n      <td>False</td>\n      <td>False</td>\n      <td>False</td>\n      <td>False</td>\n      <td>False</td>\n      <td>False</td>\n      <td>False</td>\n      <td>False</td>\n    </tr>\n  </tbody>\n</table>\n<p>61358 rows × 11 columns</p>\n</div>"
     },
     "metadata": {},
     "execution_count": 9
    }
   ],
   "source": [
    "# Verifying which individual values are null\n",
    "person.isnull()"
   ]
  },
  {
   "cell_type": "code",
   "execution_count": 10,
   "metadata": {},
   "outputs": [
    {
     "output_type": "execute_result",
     "data": {
      "text/plain": [
       "person_id                     0\n",
       "household_id                  0\n",
       "age                          49\n",
       "gender                        0\n",
       "education_level             240\n",
       "area_of_occupation           79\n",
       "has_driver_license           98\n",
       "is_disabled                   0\n",
       "sector_if_private_worker    143\n",
       "sector_if_civil_servant     286\n",
       "expf_person                   0\n",
       "dtype: int64"
      ]
     },
     "metadata": {},
     "execution_count": 10
    }
   ],
   "source": [
    "# Counting the number of null values\n",
    "person.isnull().sum()"
   ]
  },
  {
   "cell_type": "code",
   "execution_count": 11,
   "metadata": {},
   "outputs": [
    {
     "output_type": "execute_result",
     "data": {
      "text/plain": [
       "       person_id  household_id                 age  gender  \\\n",
       "89           113           141                 NaN  Female   \n",
       "99           133           213  70 to 79 years old  Female   \n",
       "105          139           215  40 to 49 years old    Male   \n",
       "222          302           381    0 to 4 years old    Male   \n",
       "486          715           882  40 to 49 years old  Female   \n",
       "...          ...           ...                 ...     ...   \n",
       "60092      73449        343637  30 to 39 years old  Female   \n",
       "60832      74253        344635  40 to 49 years old  Female   \n",
       "61138      74603        345135  20 to 24 years old    Male   \n",
       "61145      74610        345147  25 to 29 years old  Female   \n",
       "61212      74693        345264  10 to 14 years old    Male   \n",
       "\n",
       "                                education_level            area_of_occupation  \\\n",
       "89                                          NaN                         Other   \n",
       "99                                          NaN                       Retired   \n",
       "105                    Complete graduate school                           NaN   \n",
       "222                                  Illiterate                           NaN   \n",
       "486                                         NaN  Self-employed (professional)   \n",
       "...                                         ...                           ...   \n",
       "60092             Complete undergraduate school                 Civil servent   \n",
       "60832      Complete upper-secondary/high school                    Homekeeper   \n",
       "61138           Incomplete undergraduate school                Private worker   \n",
       "61145      Complete upper-secondary/high school                Private worker   \n",
       "61212  Incomplete lower-secondary/middle school     Student (regular courses)   \n",
       "\n",
       "      has_driver_license   is_disabled sector_if_private_worker  \\\n",
       "89                   NaN  Not disabled           Not applicable   \n",
       "99                    No  Not disabled           Not applicable   \n",
       "105                  Yes  Not disabled                      NaN   \n",
       "222                   No  Not disabled           Not applicable   \n",
       "486                   No  Not disabled           Not applicable   \n",
       "...                  ...           ...                      ...   \n",
       "60092                Yes  Not disabled           Not applicable   \n",
       "60832                NaN  Not disabled           Not applicable   \n",
       "61138                Yes  Not disabled                      NaN   \n",
       "61145                Yes  Not disabled                      NaN   \n",
       "61212                NaN  Not disabled           Not applicable   \n",
       "\n",
       "      sector_if_civil_servant  expf_person  \n",
       "89             Not applicable      61.5311  \n",
       "99             Not applicable      41.4124  \n",
       "105            Not applicable      33.0165  \n",
       "222            Not applicable      67.1583  \n",
       "486            Not applicable      52.5082  \n",
       "...                       ...          ...  \n",
       "60092                     NaN       8.3128  \n",
       "60832          Not applicable      21.9099  \n",
       "61138          Not applicable      45.3797  \n",
       "61145          Not applicable      45.3797  \n",
       "61212          Not applicable      33.8846  \n",
       "\n",
       "[829 rows x 11 columns]"
      ],
      "text/html": "<div>\n<style scoped>\n    .dataframe tbody tr th:only-of-type {\n        vertical-align: middle;\n    }\n\n    .dataframe tbody tr th {\n        vertical-align: top;\n    }\n\n    .dataframe thead th {\n        text-align: right;\n    }\n</style>\n<table border=\"1\" class=\"dataframe\">\n  <thead>\n    <tr style=\"text-align: right;\">\n      <th></th>\n      <th>person_id</th>\n      <th>household_id</th>\n      <th>age</th>\n      <th>gender</th>\n      <th>education_level</th>\n      <th>area_of_occupation</th>\n      <th>has_driver_license</th>\n      <th>is_disabled</th>\n      <th>sector_if_private_worker</th>\n      <th>sector_if_civil_servant</th>\n      <th>expf_person</th>\n    </tr>\n  </thead>\n  <tbody>\n    <tr>\n      <th>89</th>\n      <td>113</td>\n      <td>141</td>\n      <td>NaN</td>\n      <td>Female</td>\n      <td>NaN</td>\n      <td>Other</td>\n      <td>NaN</td>\n      <td>Not disabled</td>\n      <td>Not applicable</td>\n      <td>Not applicable</td>\n      <td>61.5311</td>\n    </tr>\n    <tr>\n      <th>99</th>\n      <td>133</td>\n      <td>213</td>\n      <td>70 to 79 years old</td>\n      <td>Female</td>\n      <td>NaN</td>\n      <td>Retired</td>\n      <td>No</td>\n      <td>Not disabled</td>\n      <td>Not applicable</td>\n      <td>Not applicable</td>\n      <td>41.4124</td>\n    </tr>\n    <tr>\n      <th>105</th>\n      <td>139</td>\n      <td>215</td>\n      <td>40 to 49 years old</td>\n      <td>Male</td>\n      <td>Complete graduate school</td>\n      <td>NaN</td>\n      <td>Yes</td>\n      <td>Not disabled</td>\n      <td>NaN</td>\n      <td>Not applicable</td>\n      <td>33.0165</td>\n    </tr>\n    <tr>\n      <th>222</th>\n      <td>302</td>\n      <td>381</td>\n      <td>0 to 4 years old</td>\n      <td>Male</td>\n      <td>Illiterate</td>\n      <td>NaN</td>\n      <td>No</td>\n      <td>Not disabled</td>\n      <td>Not applicable</td>\n      <td>Not applicable</td>\n      <td>67.1583</td>\n    </tr>\n    <tr>\n      <th>486</th>\n      <td>715</td>\n      <td>882</td>\n      <td>40 to 49 years old</td>\n      <td>Female</td>\n      <td>NaN</td>\n      <td>Self-employed (professional)</td>\n      <td>No</td>\n      <td>Not disabled</td>\n      <td>Not applicable</td>\n      <td>Not applicable</td>\n      <td>52.5082</td>\n    </tr>\n    <tr>\n      <th>...</th>\n      <td>...</td>\n      <td>...</td>\n      <td>...</td>\n      <td>...</td>\n      <td>...</td>\n      <td>...</td>\n      <td>...</td>\n      <td>...</td>\n      <td>...</td>\n      <td>...</td>\n      <td>...</td>\n    </tr>\n    <tr>\n      <th>60092</th>\n      <td>73449</td>\n      <td>343637</td>\n      <td>30 to 39 years old</td>\n      <td>Female</td>\n      <td>Complete undergraduate school</td>\n      <td>Civil servent</td>\n      <td>Yes</td>\n      <td>Not disabled</td>\n      <td>Not applicable</td>\n      <td>NaN</td>\n      <td>8.3128</td>\n    </tr>\n    <tr>\n      <th>60832</th>\n      <td>74253</td>\n      <td>344635</td>\n      <td>40 to 49 years old</td>\n      <td>Female</td>\n      <td>Complete upper-secondary/high school</td>\n      <td>Homekeeper</td>\n      <td>NaN</td>\n      <td>Not disabled</td>\n      <td>Not applicable</td>\n      <td>Not applicable</td>\n      <td>21.9099</td>\n    </tr>\n    <tr>\n      <th>61138</th>\n      <td>74603</td>\n      <td>345135</td>\n      <td>20 to 24 years old</td>\n      <td>Male</td>\n      <td>Incomplete undergraduate school</td>\n      <td>Private worker</td>\n      <td>Yes</td>\n      <td>Not disabled</td>\n      <td>NaN</td>\n      <td>Not applicable</td>\n      <td>45.3797</td>\n    </tr>\n    <tr>\n      <th>61145</th>\n      <td>74610</td>\n      <td>345147</td>\n      <td>25 to 29 years old</td>\n      <td>Female</td>\n      <td>Complete upper-secondary/high school</td>\n      <td>Private worker</td>\n      <td>Yes</td>\n      <td>Not disabled</td>\n      <td>NaN</td>\n      <td>Not applicable</td>\n      <td>45.3797</td>\n    </tr>\n    <tr>\n      <th>61212</th>\n      <td>74693</td>\n      <td>345264</td>\n      <td>10 to 14 years old</td>\n      <td>Male</td>\n      <td>Incomplete lower-secondary/middle school</td>\n      <td>Student (regular courses)</td>\n      <td>NaN</td>\n      <td>Not disabled</td>\n      <td>Not applicable</td>\n      <td>Not applicable</td>\n      <td>33.8846</td>\n    </tr>\n  </tbody>\n</table>\n<p>829 rows × 11 columns</p>\n</div>"
     },
     "metadata": {},
     "execution_count": 11
    }
   ],
   "source": [
    "# Filtering only rows where any of the columns are null\n",
    "person[person.isnull().any(axis=1)]"
   ]
  },
  {
   "cell_type": "code",
   "execution_count": 12,
   "metadata": {},
   "outputs": [
    {
     "output_type": "execute_result",
     "data": {
      "text/plain": [
       "person_id                     0\n",
       "household_id                  0\n",
       "age                           0\n",
       "gender                        0\n",
       "education_level             240\n",
       "area_of_occupation           79\n",
       "has_driver_license           98\n",
       "is_disabled                   0\n",
       "sector_if_private_worker    143\n",
       "sector_if_civil_servant     286\n",
       "expf_person                   0\n",
       "dtype: int64"
      ]
     },
     "metadata": {},
     "execution_count": 12
    }
   ],
   "source": [
    "# Filling the null values in 'age' with the most common value of this column\n",
    "person.age = person.age.fillna(person.age.mode()[0])\n",
    "person.isnull().sum()"
   ]
  },
  {
   "cell_type": "code",
   "execution_count": 13,
   "metadata": {},
   "outputs": [
    {
     "output_type": "execute_result",
     "data": {
      "text/plain": [
       "       person_id  household_id                     age  gender  \\\n",
       "0              1             3      60 to 69 years old    Male   \n",
       "1              2             3      50 to 59 years old  Female   \n",
       "2              3             4      40 to 49 years old    Male   \n",
       "3              4             4      18 to 19 years old  Female   \n",
       "4              5             4      10 to 14 years old    Male   \n",
       "...          ...           ...                     ...     ...   \n",
       "61353      74842        345422        0 to 4 years old    Male   \n",
       "61354      74843        345423  More than 80 years old    Male   \n",
       "61355      74844        345423      70 to 79 years old  Female   \n",
       "61356      74845        345423      30 to 39 years old    Male   \n",
       "61357      74846        345424  More than 80 years old    Male   \n",
       "\n",
       "                                education_level            area_of_occupation  \\\n",
       "0      Incomplete lower-secondary/middle school                       Retired   \n",
       "1      Incomplete lower-secondary/middle school                         Other   \n",
       "2      Incomplete lower-secondary/middle school  Self-employed (professional)   \n",
       "3               Incomplete undergraduate school     Student (regular courses)   \n",
       "4      Incomplete lower-secondary/middle school     Student (regular courses)   \n",
       "...                                         ...                           ...   \n",
       "61353                                Illiterate                   No activity   \n",
       "61354                  Complete graduate school                       Retired   \n",
       "61355             Complete undergraduate school                       Retired   \n",
       "61356             Complete undergraduate school                 Civil servent   \n",
       "61357                  Complete graduate school                       Retired   \n",
       "\n",
       "      has_driver_license        is_disabled sector_if_private_worker  \\\n",
       "0                    Yes  Other impairments           Not applicable   \n",
       "1                     No       Not disabled           Not applicable   \n",
       "2                    Yes       Not disabled           Not applicable   \n",
       "3                    Yes       Not disabled           Not applicable   \n",
       "4                     No       Not disabled           Not applicable   \n",
       "...                  ...                ...                      ...   \n",
       "61353                 No       Not disabled           Not applicable   \n",
       "61354                Yes       Not disabled           Not applicable   \n",
       "61355                 No       Not disabled           Not applicable   \n",
       "61356                Yes       Not disabled           Not applicable   \n",
       "61357                Yes       Not disabled           Not applicable   \n",
       "\n",
       "      sector_if_civil_servant  expf_person  \n",
       "0              Not applicable      35.6286  \n",
       "1              Not applicable      35.6286  \n",
       "2              Not applicable      32.6147  \n",
       "3              Not applicable      32.6147  \n",
       "4              Not applicable      32.6147  \n",
       "...                       ...          ...  \n",
       "61353          Not applicable      57.8228  \n",
       "61354          Not applicable      33.4953  \n",
       "61355          Not applicable      33.4953  \n",
       "61356   Federal Civil Service      33.4953  \n",
       "61357          Not applicable      35.2705  \n",
       "\n",
       "[60557 rows x 11 columns]"
      ],
      "text/html": "<div>\n<style scoped>\n    .dataframe tbody tr th:only-of-type {\n        vertical-align: middle;\n    }\n\n    .dataframe tbody tr th {\n        vertical-align: top;\n    }\n\n    .dataframe thead th {\n        text-align: right;\n    }\n</style>\n<table border=\"1\" class=\"dataframe\">\n  <thead>\n    <tr style=\"text-align: right;\">\n      <th></th>\n      <th>person_id</th>\n      <th>household_id</th>\n      <th>age</th>\n      <th>gender</th>\n      <th>education_level</th>\n      <th>area_of_occupation</th>\n      <th>has_driver_license</th>\n      <th>is_disabled</th>\n      <th>sector_if_private_worker</th>\n      <th>sector_if_civil_servant</th>\n      <th>expf_person</th>\n    </tr>\n  </thead>\n  <tbody>\n    <tr>\n      <th>0</th>\n      <td>1</td>\n      <td>3</td>\n      <td>60 to 69 years old</td>\n      <td>Male</td>\n      <td>Incomplete lower-secondary/middle school</td>\n      <td>Retired</td>\n      <td>Yes</td>\n      <td>Other impairments</td>\n      <td>Not applicable</td>\n      <td>Not applicable</td>\n      <td>35.6286</td>\n    </tr>\n    <tr>\n      <th>1</th>\n      <td>2</td>\n      <td>3</td>\n      <td>50 to 59 years old</td>\n      <td>Female</td>\n      <td>Incomplete lower-secondary/middle school</td>\n      <td>Other</td>\n      <td>No</td>\n      <td>Not disabled</td>\n      <td>Not applicable</td>\n      <td>Not applicable</td>\n      <td>35.6286</td>\n    </tr>\n    <tr>\n      <th>2</th>\n      <td>3</td>\n      <td>4</td>\n      <td>40 to 49 years old</td>\n      <td>Male</td>\n      <td>Incomplete lower-secondary/middle school</td>\n      <td>Self-employed (professional)</td>\n      <td>Yes</td>\n      <td>Not disabled</td>\n      <td>Not applicable</td>\n      <td>Not applicable</td>\n      <td>32.6147</td>\n    </tr>\n    <tr>\n      <th>3</th>\n      <td>4</td>\n      <td>4</td>\n      <td>18 to 19 years old</td>\n      <td>Female</td>\n      <td>Incomplete undergraduate school</td>\n      <td>Student (regular courses)</td>\n      <td>Yes</td>\n      <td>Not disabled</td>\n      <td>Not applicable</td>\n      <td>Not applicable</td>\n      <td>32.6147</td>\n    </tr>\n    <tr>\n      <th>4</th>\n      <td>5</td>\n      <td>4</td>\n      <td>10 to 14 years old</td>\n      <td>Male</td>\n      <td>Incomplete lower-secondary/middle school</td>\n      <td>Student (regular courses)</td>\n      <td>No</td>\n      <td>Not disabled</td>\n      <td>Not applicable</td>\n      <td>Not applicable</td>\n      <td>32.6147</td>\n    </tr>\n    <tr>\n      <th>...</th>\n      <td>...</td>\n      <td>...</td>\n      <td>...</td>\n      <td>...</td>\n      <td>...</td>\n      <td>...</td>\n      <td>...</td>\n      <td>...</td>\n      <td>...</td>\n      <td>...</td>\n      <td>...</td>\n    </tr>\n    <tr>\n      <th>61353</th>\n      <td>74842</td>\n      <td>345422</td>\n      <td>0 to 4 years old</td>\n      <td>Male</td>\n      <td>Illiterate</td>\n      <td>No activity</td>\n      <td>No</td>\n      <td>Not disabled</td>\n      <td>Not applicable</td>\n      <td>Not applicable</td>\n      <td>57.8228</td>\n    </tr>\n    <tr>\n      <th>61354</th>\n      <td>74843</td>\n      <td>345423</td>\n      <td>More than 80 years old</td>\n      <td>Male</td>\n      <td>Complete graduate school</td>\n      <td>Retired</td>\n      <td>Yes</td>\n      <td>Not disabled</td>\n      <td>Not applicable</td>\n      <td>Not applicable</td>\n      <td>33.4953</td>\n    </tr>\n    <tr>\n      <th>61355</th>\n      <td>74844</td>\n      <td>345423</td>\n      <td>70 to 79 years old</td>\n      <td>Female</td>\n      <td>Complete undergraduate school</td>\n      <td>Retired</td>\n      <td>No</td>\n      <td>Not disabled</td>\n      <td>Not applicable</td>\n      <td>Not applicable</td>\n      <td>33.4953</td>\n    </tr>\n    <tr>\n      <th>61356</th>\n      <td>74845</td>\n      <td>345423</td>\n      <td>30 to 39 years old</td>\n      <td>Male</td>\n      <td>Complete undergraduate school</td>\n      <td>Civil servent</td>\n      <td>Yes</td>\n      <td>Not disabled</td>\n      <td>Not applicable</td>\n      <td>Federal Civil Service</td>\n      <td>33.4953</td>\n    </tr>\n    <tr>\n      <th>61357</th>\n      <td>74846</td>\n      <td>345424</td>\n      <td>More than 80 years old</td>\n      <td>Male</td>\n      <td>Complete graduate school</td>\n      <td>Retired</td>\n      <td>Yes</td>\n      <td>Not disabled</td>\n      <td>Not applicable</td>\n      <td>Not applicable</td>\n      <td>35.2705</td>\n    </tr>\n  </tbody>\n</table>\n<p>60557 rows × 11 columns</p>\n</div>"
     },
     "metadata": {},
     "execution_count": 13
    }
   ],
   "source": [
    "# Dropping all columns with null values\n",
    "person.dropna(axis=0)"
   ]
  },
  {
   "source": [
    "## 1.3 Exploring data"
   ],
   "cell_type": "markdown",
   "metadata": {}
  },
  {
   "cell_type": "code",
   "execution_count": 14,
   "metadata": {},
   "outputs": [
    {
     "output_type": "execute_result",
     "data": {
      "text/plain": [
       "   household_id  people_in_household  bathrooms  bedrooms  vehicles  bicycles  \\\n",
       "0             3                    2          2         2         1         0   \n",
       "1             4                    4          1         3         3         0   \n",
       "2             7                    3          2         3         1         0   \n",
       "3            22                    3          4         4         2         0   \n",
       "4            35                    3          2         3         1         1   \n",
       "\n",
       "   motorcycles    dwelling_type                                      income  \\\n",
       "0            0  Brickwork house   More than R$ 4,400 and less than R$ 8,800   \n",
       "1            0  Brickwork house   More than R$ 1,760 and less than R$ 2,640   \n",
       "2            0  Brickwork house   More than R$ 2,640 and less than R$ 4,400   \n",
       "3            0  Brickwork house   More than R$ 4,400 and less than R$ 8,800   \n",
       "4            0        Apartment  More than R$ 8,800 and less than R$ 13,200   \n",
       "\n",
       "  household_tenure                   piped_water_supply    street_pavement  \\\n",
       "0            Owned  Yes, available at least in one room  Asphalt, concrete   \n",
       "1            Owned  Yes, available at least in one room  Asphalt, concrete   \n",
       "2            Owned  Yes, available at least in one room  Asphalt, concrete   \n",
       "3            Owned  Yes, available at least in one room  Asphalt, concrete   \n",
       "4            Owned  Yes, available at least in one room  Asphalt, concrete   \n",
       "\n",
       "  private_parking_space year_of_newest_vehicle      domestic_worker  \\\n",
       "0             Available           1995 to 1999  No domestic workers   \n",
       "1             Available           2005 to 2009  No domestic workers   \n",
       "2             Available                    NaN  No domestic workers   \n",
       "3             Available          2014 or newer  No domestic workers   \n",
       "4             Available           2010 to 2013  No domestic workers   \n",
       "\n",
       "    cable_tv social_assistence  expf_household  macrozone  \\\n",
       "0  Available                No         36.9016        315   \n",
       "1  Available                No         33.7800        315   \n",
       "2  Available                No         37.1846        315   \n",
       "3  Available                No         37.2258        315   \n",
       "4  Available                No         68.3503        222   \n",
       "\n",
       "  administrative_region  \n",
       "0            Taguatinga  \n",
       "1            Taguatinga  \n",
       "2            Taguatinga  \n",
       "3            Taguatinga  \n",
       "4                 Guará  "
      ],
      "text/html": "<div>\n<style scoped>\n    .dataframe tbody tr th:only-of-type {\n        vertical-align: middle;\n    }\n\n    .dataframe tbody tr th {\n        vertical-align: top;\n    }\n\n    .dataframe thead th {\n        text-align: right;\n    }\n</style>\n<table border=\"1\" class=\"dataframe\">\n  <thead>\n    <tr style=\"text-align: right;\">\n      <th></th>\n      <th>household_id</th>\n      <th>people_in_household</th>\n      <th>bathrooms</th>\n      <th>bedrooms</th>\n      <th>vehicles</th>\n      <th>bicycles</th>\n      <th>motorcycles</th>\n      <th>dwelling_type</th>\n      <th>income</th>\n      <th>household_tenure</th>\n      <th>piped_water_supply</th>\n      <th>street_pavement</th>\n      <th>private_parking_space</th>\n      <th>year_of_newest_vehicle</th>\n      <th>domestic_worker</th>\n      <th>cable_tv</th>\n      <th>social_assistence</th>\n      <th>expf_household</th>\n      <th>macrozone</th>\n      <th>administrative_region</th>\n    </tr>\n  </thead>\n  <tbody>\n    <tr>\n      <th>0</th>\n      <td>3</td>\n      <td>2</td>\n      <td>2</td>\n      <td>2</td>\n      <td>1</td>\n      <td>0</td>\n      <td>0</td>\n      <td>Brickwork house</td>\n      <td>More than R$ 4,400 and less than R$ 8,800</td>\n      <td>Owned</td>\n      <td>Yes, available at least in one room</td>\n      <td>Asphalt, concrete</td>\n      <td>Available</td>\n      <td>1995 to 1999</td>\n      <td>No domestic workers</td>\n      <td>Available</td>\n      <td>No</td>\n      <td>36.9016</td>\n      <td>315</td>\n      <td>Taguatinga</td>\n    </tr>\n    <tr>\n      <th>1</th>\n      <td>4</td>\n      <td>4</td>\n      <td>1</td>\n      <td>3</td>\n      <td>3</td>\n      <td>0</td>\n      <td>0</td>\n      <td>Brickwork house</td>\n      <td>More than R$ 1,760 and less than R$ 2,640</td>\n      <td>Owned</td>\n      <td>Yes, available at least in one room</td>\n      <td>Asphalt, concrete</td>\n      <td>Available</td>\n      <td>2005 to 2009</td>\n      <td>No domestic workers</td>\n      <td>Available</td>\n      <td>No</td>\n      <td>33.7800</td>\n      <td>315</td>\n      <td>Taguatinga</td>\n    </tr>\n    <tr>\n      <th>2</th>\n      <td>7</td>\n      <td>3</td>\n      <td>2</td>\n      <td>3</td>\n      <td>1</td>\n      <td>0</td>\n      <td>0</td>\n      <td>Brickwork house</td>\n      <td>More than R$ 2,640 and less than R$ 4,400</td>\n      <td>Owned</td>\n      <td>Yes, available at least in one room</td>\n      <td>Asphalt, concrete</td>\n      <td>Available</td>\n      <td>NaN</td>\n      <td>No domestic workers</td>\n      <td>Available</td>\n      <td>No</td>\n      <td>37.1846</td>\n      <td>315</td>\n      <td>Taguatinga</td>\n    </tr>\n    <tr>\n      <th>3</th>\n      <td>22</td>\n      <td>3</td>\n      <td>4</td>\n      <td>4</td>\n      <td>2</td>\n      <td>0</td>\n      <td>0</td>\n      <td>Brickwork house</td>\n      <td>More than R$ 4,400 and less than R$ 8,800</td>\n      <td>Owned</td>\n      <td>Yes, available at least in one room</td>\n      <td>Asphalt, concrete</td>\n      <td>Available</td>\n      <td>2014 or newer</td>\n      <td>No domestic workers</td>\n      <td>Available</td>\n      <td>No</td>\n      <td>37.2258</td>\n      <td>315</td>\n      <td>Taguatinga</td>\n    </tr>\n    <tr>\n      <th>4</th>\n      <td>35</td>\n      <td>3</td>\n      <td>2</td>\n      <td>3</td>\n      <td>1</td>\n      <td>1</td>\n      <td>0</td>\n      <td>Apartment</td>\n      <td>More than R$ 8,800 and less than R$ 13,200</td>\n      <td>Owned</td>\n      <td>Yes, available at least in one room</td>\n      <td>Asphalt, concrete</td>\n      <td>Available</td>\n      <td>2010 to 2013</td>\n      <td>No domestic workers</td>\n      <td>Available</td>\n      <td>No</td>\n      <td>68.3503</td>\n      <td>222</td>\n      <td>Guará</td>\n    </tr>\n  </tbody>\n</table>\n</div>"
     },
     "metadata": {},
     "execution_count": 14
    }
   ],
   "source": [
    "household.head(5)"
   ]
  },
  {
   "cell_type": "code",
   "execution_count": 15,
   "metadata": {},
   "outputs": [
    {
     "output_type": "execute_result",
     "data": {
      "text/plain": [
       "        household_id  people_in_household     bathrooms      bedrooms  \\\n",
       "count   19252.000000         19252.000000  19252.000000  19252.000000   \n",
       "mean   132270.295761             3.187097      1.938188      2.632298   \n",
       "std    113153.061358             1.465941      2.612911      2.598174   \n",
       "min         3.000000             1.000000      0.000000      0.000000   \n",
       "25%     22326.500000             2.000000      1.000000      2.000000   \n",
       "50%    109376.500000             3.000000      2.000000      3.000000   \n",
       "75%    229269.250000             4.000000      2.000000      3.000000   \n",
       "max    345424.000000            13.000000    303.000000    311.000000   \n",
       "\n",
       "           vehicles      bicycles   motorcycles  expf_household     macrozone  \n",
       "count  19252.000000  19252.000000  19252.000000    19252.000000  19252.000000  \n",
       "mean       1.006389      0.637752      0.092302       49.393745    348.272283  \n",
       "std        0.947158      0.969154      0.355064       14.926671    147.920602  \n",
       "min        0.000000      0.000000      0.000000        1.296300    111.000000  \n",
       "25%        0.000000      0.000000      0.000000       38.728400    254.000000  \n",
       "50%        1.000000      0.000000      0.000000       48.084100    344.000000  \n",
       "75%        1.000000      1.000000      0.000000       57.781300    422.000000  \n",
       "max       10.000000     11.000000     20.000000       99.649100    626.000000  "
      ],
      "text/html": "<div>\n<style scoped>\n    .dataframe tbody tr th:only-of-type {\n        vertical-align: middle;\n    }\n\n    .dataframe tbody tr th {\n        vertical-align: top;\n    }\n\n    .dataframe thead th {\n        text-align: right;\n    }\n</style>\n<table border=\"1\" class=\"dataframe\">\n  <thead>\n    <tr style=\"text-align: right;\">\n      <th></th>\n      <th>household_id</th>\n      <th>people_in_household</th>\n      <th>bathrooms</th>\n      <th>bedrooms</th>\n      <th>vehicles</th>\n      <th>bicycles</th>\n      <th>motorcycles</th>\n      <th>expf_household</th>\n      <th>macrozone</th>\n    </tr>\n  </thead>\n  <tbody>\n    <tr>\n      <th>count</th>\n      <td>19252.000000</td>\n      <td>19252.000000</td>\n      <td>19252.000000</td>\n      <td>19252.000000</td>\n      <td>19252.000000</td>\n      <td>19252.000000</td>\n      <td>19252.000000</td>\n      <td>19252.000000</td>\n      <td>19252.000000</td>\n    </tr>\n    <tr>\n      <th>mean</th>\n      <td>132270.295761</td>\n      <td>3.187097</td>\n      <td>1.938188</td>\n      <td>2.632298</td>\n      <td>1.006389</td>\n      <td>0.637752</td>\n      <td>0.092302</td>\n      <td>49.393745</td>\n      <td>348.272283</td>\n    </tr>\n    <tr>\n      <th>std</th>\n      <td>113153.061358</td>\n      <td>1.465941</td>\n      <td>2.612911</td>\n      <td>2.598174</td>\n      <td>0.947158</td>\n      <td>0.969154</td>\n      <td>0.355064</td>\n      <td>14.926671</td>\n      <td>147.920602</td>\n    </tr>\n    <tr>\n      <th>min</th>\n      <td>3.000000</td>\n      <td>1.000000</td>\n      <td>0.000000</td>\n      <td>0.000000</td>\n      <td>0.000000</td>\n      <td>0.000000</td>\n      <td>0.000000</td>\n      <td>1.296300</td>\n      <td>111.000000</td>\n    </tr>\n    <tr>\n      <th>25%</th>\n      <td>22326.500000</td>\n      <td>2.000000</td>\n      <td>1.000000</td>\n      <td>2.000000</td>\n      <td>0.000000</td>\n      <td>0.000000</td>\n      <td>0.000000</td>\n      <td>38.728400</td>\n      <td>254.000000</td>\n    </tr>\n    <tr>\n      <th>50%</th>\n      <td>109376.500000</td>\n      <td>3.000000</td>\n      <td>2.000000</td>\n      <td>3.000000</td>\n      <td>1.000000</td>\n      <td>0.000000</td>\n      <td>0.000000</td>\n      <td>48.084100</td>\n      <td>344.000000</td>\n    </tr>\n    <tr>\n      <th>75%</th>\n      <td>229269.250000</td>\n      <td>4.000000</td>\n      <td>2.000000</td>\n      <td>3.000000</td>\n      <td>1.000000</td>\n      <td>1.000000</td>\n      <td>0.000000</td>\n      <td>57.781300</td>\n      <td>422.000000</td>\n    </tr>\n    <tr>\n      <th>max</th>\n      <td>345424.000000</td>\n      <td>13.000000</td>\n      <td>303.000000</td>\n      <td>311.000000</td>\n      <td>10.000000</td>\n      <td>11.000000</td>\n      <td>20.000000</td>\n      <td>99.649100</td>\n      <td>626.000000</td>\n    </tr>\n  </tbody>\n</table>\n</div>"
     },
     "metadata": {},
     "execution_count": 15
    }
   ],
   "source": [
    "# Quickly calculating statistical summary for numerical columns\n",
    "household.describe()"
   ]
  },
  {
   "cell_type": "code",
   "execution_count": 19,
   "metadata": {},
   "outputs": [
    {
     "output_type": "stream",
     "name": "stdout",
     "text": [
      "The average number of vehicles in each household is: 1.0063889466029503\nThe most common value of income per household is: More than R$ 880 and less than R$ 1,760\n"
     ]
    }
   ],
   "source": [
    "# Get the mean number of vehicles in each household:\n",
    "print(\"The average number of vehicles in each household is: \" + str(household['vehicles'].mean()))\n",
    "\n",
    "print(\"The most common value of income per household is: \"+ str(household['income'].mode()[0]))"
   ]
  },
  {
   "cell_type": "code",
   "execution_count": 20,
   "metadata": {},
   "outputs": [
    {
     "output_type": "execute_result",
     "data": {
      "text/plain": [
       "       household_id  people_in_household  bathrooms  bedrooms  vehicles  \\\n",
       "1                 4                    4          1         3         3   \n",
       "3                22                    3          4         4         2   \n",
       "7                44                    3          2         2         2   \n",
       "10               48                    5          2         4         3   \n",
       "12               50                    3          2         2         2   \n",
       "...             ...                  ...        ...       ...       ...   \n",
       "19244        345409                    2          4         3         2   \n",
       "19245        345410                    4          9         7         3   \n",
       "19246        345419                    3          4         5         2   \n",
       "19247        345420                    4          3         4         4   \n",
       "19248        345421                    6          3         4         3   \n",
       "\n",
       "       bicycles  motorcycles    dwelling_type  \\\n",
       "1             0            0  Brickwork house   \n",
       "3             0            0  Brickwork house   \n",
       "7             1            0  Brickwork house   \n",
       "10            1            0  Brickwork house   \n",
       "12            2            0  Brickwork house   \n",
       "...         ...          ...              ...   \n",
       "19244         0            0  Brickwork house   \n",
       "19245         0            0  Brickwork house   \n",
       "19246         1            0  Brickwork house   \n",
       "19247         0            0  Brickwork house   \n",
       "19248         2            0  Brickwork house   \n",
       "\n",
       "                                            income household_tenure  \\\n",
       "1        More than R$ 1,760 and less than R$ 2,640            Owned   \n",
       "3        More than R$ 4,400 and less than R$ 8,800            Owned   \n",
       "7        More than R$ 4,400 and less than R$ 8,800            Owned   \n",
       "10       More than R$ 1,760 and less than R$ 2,640            Owned   \n",
       "12       More than R$ 2,640 and less than R$ 4,400            Owned   \n",
       "...                                            ...              ...   \n",
       "19244  More than R$ 13,200 and less than R$ 17,600            Owned   \n",
       "19245                          More than R$ 26,400            Owned   \n",
       "19246  More than R$ 13,200 and less than R$ 17,600            Owned   \n",
       "19247  More than R$ 13,200 and less than R$ 17,600            Owned   \n",
       "19248  More than R$ 13,200 and less than R$ 17,600            Owned   \n",
       "\n",
       "                                      piped_water_supply    street_pavement  \\\n",
       "1                    Yes, available at least in one room  Asphalt, concrete   \n",
       "3                    Yes, available at least in one room  Asphalt, concrete   \n",
       "7                    Yes, available at least in one room  Asphalt, concrete   \n",
       "10                   Yes, available at least in one room  Asphalt, concrete   \n",
       "12                   Yes, available at least in one room  Asphalt, concrete   \n",
       "...                                                  ...                ...   \n",
       "19244                Yes, available at least in one room  Asphalt, concrete   \n",
       "19245                Yes, available at least in one room  Asphalt, concrete   \n",
       "19246  Yes, but only connected to a tap outside of th...  Asphalt, concrete   \n",
       "19247  Yes, but only connected to a tap outside of th...  Asphalt, concrete   \n",
       "19248  Yes, but only connected to a tap outside of th...  Asphalt, concrete   \n",
       "\n",
       "      private_parking_space year_of_newest_vehicle      domestic_worker  \\\n",
       "1                 Available           2005 to 2009  No domestic workers   \n",
       "3                 Available          2014 or newer  No domestic workers   \n",
       "7                 Available          2014 or newer  No domestic workers   \n",
       "10                Available          2014 or newer  No domestic workers   \n",
       "12                Available          2014 or newer  No domestic workers   \n",
       "...                     ...                    ...                  ...   \n",
       "19244             Available           2010 to 2013         Yes, regular   \n",
       "19245             Available           2010 to 2013         Yes, regular   \n",
       "19246             Available           2010 to 2013      Yes, occasional   \n",
       "19247             Available          2014 or newer         Yes, regular   \n",
       "19248             Available          2014 or newer      Yes, occasional   \n",
       "\n",
       "            cable_tv social_assistence  expf_household  macrozone  \\\n",
       "1          Available                No         33.7800        315   \n",
       "3          Available                No         37.2258        315   \n",
       "7          Available                No         54.3644        352   \n",
       "10     Not available                No         61.7667        352   \n",
       "12         Available                No         54.3644        352   \n",
       "...              ...               ...             ...        ...   \n",
       "19244      Available                No         35.9075        532   \n",
       "19245      Available                No         41.2053        532   \n",
       "19246      Available                No         37.8270        532   \n",
       "19247      Available                No         41.2053        532   \n",
       "19248  Not available                No         65.3006        532   \n",
       "\n",
       "      administrative_region  \n",
       "1                Taguatinga  \n",
       "3                Taguatinga  \n",
       "7                 Samambaia  \n",
       "10                Samambaia  \n",
       "12                Samambaia  \n",
       "...                     ...  \n",
       "19244              Lago Sul  \n",
       "19245              Lago Sul  \n",
       "19246              Lago Sul  \n",
       "19247              Lago Sul  \n",
       "19248              Lago Sul  \n",
       "\n",
       "[4798 rows x 20 columns]"
      ],
      "text/html": "<div>\n<style scoped>\n    .dataframe tbody tr th:only-of-type {\n        vertical-align: middle;\n    }\n\n    .dataframe tbody tr th {\n        vertical-align: top;\n    }\n\n    .dataframe thead th {\n        text-align: right;\n    }\n</style>\n<table border=\"1\" class=\"dataframe\">\n  <thead>\n    <tr style=\"text-align: right;\">\n      <th></th>\n      <th>household_id</th>\n      <th>people_in_household</th>\n      <th>bathrooms</th>\n      <th>bedrooms</th>\n      <th>vehicles</th>\n      <th>bicycles</th>\n      <th>motorcycles</th>\n      <th>dwelling_type</th>\n      <th>income</th>\n      <th>household_tenure</th>\n      <th>piped_water_supply</th>\n      <th>street_pavement</th>\n      <th>private_parking_space</th>\n      <th>year_of_newest_vehicle</th>\n      <th>domestic_worker</th>\n      <th>cable_tv</th>\n      <th>social_assistence</th>\n      <th>expf_household</th>\n      <th>macrozone</th>\n      <th>administrative_region</th>\n    </tr>\n  </thead>\n  <tbody>\n    <tr>\n      <th>1</th>\n      <td>4</td>\n      <td>4</td>\n      <td>1</td>\n      <td>3</td>\n      <td>3</td>\n      <td>0</td>\n      <td>0</td>\n      <td>Brickwork house</td>\n      <td>More than R$ 1,760 and less than R$ 2,640</td>\n      <td>Owned</td>\n      <td>Yes, available at least in one room</td>\n      <td>Asphalt, concrete</td>\n      <td>Available</td>\n      <td>2005 to 2009</td>\n      <td>No domestic workers</td>\n      <td>Available</td>\n      <td>No</td>\n      <td>33.7800</td>\n      <td>315</td>\n      <td>Taguatinga</td>\n    </tr>\n    <tr>\n      <th>3</th>\n      <td>22</td>\n      <td>3</td>\n      <td>4</td>\n      <td>4</td>\n      <td>2</td>\n      <td>0</td>\n      <td>0</td>\n      <td>Brickwork house</td>\n      <td>More than R$ 4,400 and less than R$ 8,800</td>\n      <td>Owned</td>\n      <td>Yes, available at least in one room</td>\n      <td>Asphalt, concrete</td>\n      <td>Available</td>\n      <td>2014 or newer</td>\n      <td>No domestic workers</td>\n      <td>Available</td>\n      <td>No</td>\n      <td>37.2258</td>\n      <td>315</td>\n      <td>Taguatinga</td>\n    </tr>\n    <tr>\n      <th>7</th>\n      <td>44</td>\n      <td>3</td>\n      <td>2</td>\n      <td>2</td>\n      <td>2</td>\n      <td>1</td>\n      <td>0</td>\n      <td>Brickwork house</td>\n      <td>More than R$ 4,400 and less than R$ 8,800</td>\n      <td>Owned</td>\n      <td>Yes, available at least in one room</td>\n      <td>Asphalt, concrete</td>\n      <td>Available</td>\n      <td>2014 or newer</td>\n      <td>No domestic workers</td>\n      <td>Available</td>\n      <td>No</td>\n      <td>54.3644</td>\n      <td>352</td>\n      <td>Samambaia</td>\n    </tr>\n    <tr>\n      <th>10</th>\n      <td>48</td>\n      <td>5</td>\n      <td>2</td>\n      <td>4</td>\n      <td>3</td>\n      <td>1</td>\n      <td>0</td>\n      <td>Brickwork house</td>\n      <td>More than R$ 1,760 and less than R$ 2,640</td>\n      <td>Owned</td>\n      <td>Yes, available at least in one room</td>\n      <td>Asphalt, concrete</td>\n      <td>Available</td>\n      <td>2014 or newer</td>\n      <td>No domestic workers</td>\n      <td>Not available</td>\n      <td>No</td>\n      <td>61.7667</td>\n      <td>352</td>\n      <td>Samambaia</td>\n    </tr>\n    <tr>\n      <th>12</th>\n      <td>50</td>\n      <td>3</td>\n      <td>2</td>\n      <td>2</td>\n      <td>2</td>\n      <td>2</td>\n      <td>0</td>\n      <td>Brickwork house</td>\n      <td>More than R$ 2,640 and less than R$ 4,400</td>\n      <td>Owned</td>\n      <td>Yes, available at least in one room</td>\n      <td>Asphalt, concrete</td>\n      <td>Available</td>\n      <td>2014 or newer</td>\n      <td>No domestic workers</td>\n      <td>Available</td>\n      <td>No</td>\n      <td>54.3644</td>\n      <td>352</td>\n      <td>Samambaia</td>\n    </tr>\n    <tr>\n      <th>...</th>\n      <td>...</td>\n      <td>...</td>\n      <td>...</td>\n      <td>...</td>\n      <td>...</td>\n      <td>...</td>\n      <td>...</td>\n      <td>...</td>\n      <td>...</td>\n      <td>...</td>\n      <td>...</td>\n      <td>...</td>\n      <td>...</td>\n      <td>...</td>\n      <td>...</td>\n      <td>...</td>\n      <td>...</td>\n      <td>...</td>\n      <td>...</td>\n      <td>...</td>\n    </tr>\n    <tr>\n      <th>19244</th>\n      <td>345409</td>\n      <td>2</td>\n      <td>4</td>\n      <td>3</td>\n      <td>2</td>\n      <td>0</td>\n      <td>0</td>\n      <td>Brickwork house</td>\n      <td>More than R$ 13,200 and less than R$ 17,600</td>\n      <td>Owned</td>\n      <td>Yes, available at least in one room</td>\n      <td>Asphalt, concrete</td>\n      <td>Available</td>\n      <td>2010 to 2013</td>\n      <td>Yes, regular</td>\n      <td>Available</td>\n      <td>No</td>\n      <td>35.9075</td>\n      <td>532</td>\n      <td>Lago Sul</td>\n    </tr>\n    <tr>\n      <th>19245</th>\n      <td>345410</td>\n      <td>4</td>\n      <td>9</td>\n      <td>7</td>\n      <td>3</td>\n      <td>0</td>\n      <td>0</td>\n      <td>Brickwork house</td>\n      <td>More than R$ 26,400</td>\n      <td>Owned</td>\n      <td>Yes, available at least in one room</td>\n      <td>Asphalt, concrete</td>\n      <td>Available</td>\n      <td>2010 to 2013</td>\n      <td>Yes, regular</td>\n      <td>Available</td>\n      <td>No</td>\n      <td>41.2053</td>\n      <td>532</td>\n      <td>Lago Sul</td>\n    </tr>\n    <tr>\n      <th>19246</th>\n      <td>345419</td>\n      <td>3</td>\n      <td>4</td>\n      <td>5</td>\n      <td>2</td>\n      <td>1</td>\n      <td>0</td>\n      <td>Brickwork house</td>\n      <td>More than R$ 13,200 and less than R$ 17,600</td>\n      <td>Owned</td>\n      <td>Yes, but only connected to a tap outside of th...</td>\n      <td>Asphalt, concrete</td>\n      <td>Available</td>\n      <td>2010 to 2013</td>\n      <td>Yes, occasional</td>\n      <td>Available</td>\n      <td>No</td>\n      <td>37.8270</td>\n      <td>532</td>\n      <td>Lago Sul</td>\n    </tr>\n    <tr>\n      <th>19247</th>\n      <td>345420</td>\n      <td>4</td>\n      <td>3</td>\n      <td>4</td>\n      <td>4</td>\n      <td>0</td>\n      <td>0</td>\n      <td>Brickwork house</td>\n      <td>More than R$ 13,200 and less than R$ 17,600</td>\n      <td>Owned</td>\n      <td>Yes, but only connected to a tap outside of th...</td>\n      <td>Asphalt, concrete</td>\n      <td>Available</td>\n      <td>2014 or newer</td>\n      <td>Yes, regular</td>\n      <td>Available</td>\n      <td>No</td>\n      <td>41.2053</td>\n      <td>532</td>\n      <td>Lago Sul</td>\n    </tr>\n    <tr>\n      <th>19248</th>\n      <td>345421</td>\n      <td>6</td>\n      <td>3</td>\n      <td>4</td>\n      <td>3</td>\n      <td>2</td>\n      <td>0</td>\n      <td>Brickwork house</td>\n      <td>More than R$ 13,200 and less than R$ 17,600</td>\n      <td>Owned</td>\n      <td>Yes, but only connected to a tap outside of th...</td>\n      <td>Asphalt, concrete</td>\n      <td>Available</td>\n      <td>2014 or newer</td>\n      <td>Yes, occasional</td>\n      <td>Not available</td>\n      <td>No</td>\n      <td>65.3006</td>\n      <td>532</td>\n      <td>Lago Sul</td>\n    </tr>\n  </tbody>\n</table>\n<p>4798 rows × 20 columns</p>\n</div>"
     },
     "metadata": {},
     "execution_count": 20
    }
   ],
   "source": [
    "# Filter the dataframe to get the households where there are 2 or more vehicles\n",
    "household[household.vehicles >=2]"
   ]
  },
  {
   "cell_type": "code",
   "execution_count": 22,
   "metadata": {},
   "outputs": [
    {
     "output_type": "execute_result",
     "data": {
      "text/plain": [
       "'More than R$ 4,400 and less than R$ 8,800'"
      ]
     },
     "metadata": {},
     "execution_count": 22
    }
   ],
   "source": [
    "# Discover the most common income value for these households:\n",
    "# Filter the dataframe to get the households where there are 2 or more vehicles\n",
    "household[household.vehicles >=2].income.mode()[0]"
   ]
  },
  {
   "cell_type": "code",
   "execution_count": 23,
   "metadata": {},
   "outputs": [
    {
     "output_type": "execute_result",
     "data": {
      "text/plain": [
       "   household_id  people_in_household  bathrooms  bedrooms  vehicles  bicycles  \\\n",
       "0             3                    2          2         2         1         0   \n",
       "1             4                    4          1         3         3         0   \n",
       "2             7                    3          2         3         1         0   \n",
       "\n",
       "   motorcycles    dwelling_type                                     income  \\\n",
       "0            0  Brickwork house  More than R$ 4,400 and less than R$ 8,800   \n",
       "1            0  Brickwork house  More than R$ 1,760 and less than R$ 2,640   \n",
       "2            0  Brickwork house  More than R$ 2,640 and less than R$ 4,400   \n",
       "\n",
       "  household_tenure                   piped_water_supply    street_pavement  \\\n",
       "0            Owned  Yes, available at least in one room  Asphalt, concrete   \n",
       "1            Owned  Yes, available at least in one room  Asphalt, concrete   \n",
       "2            Owned  Yes, available at least in one room  Asphalt, concrete   \n",
       "\n",
       "  private_parking_space year_of_newest_vehicle      domestic_worker  \\\n",
       "0             Available           1995 to 1999  No domestic workers   \n",
       "1             Available           2005 to 2009  No domestic workers   \n",
       "2             Available                    NaN  No domestic workers   \n",
       "\n",
       "    cable_tv social_assistence  expf_household  macrozone  \\\n",
       "0  Available                No         36.9016        315   \n",
       "1  Available                No         33.7800        315   \n",
       "2  Available                No         37.1846        315   \n",
       "\n",
       "  administrative_region  are_many_cars  \n",
       "0            Taguatinga          False  \n",
       "1            Taguatinga           True  \n",
       "2            Taguatinga          False  "
      ],
      "text/html": "<div>\n<style scoped>\n    .dataframe tbody tr th:only-of-type {\n        vertical-align: middle;\n    }\n\n    .dataframe tbody tr th {\n        vertical-align: top;\n    }\n\n    .dataframe thead th {\n        text-align: right;\n    }\n</style>\n<table border=\"1\" class=\"dataframe\">\n  <thead>\n    <tr style=\"text-align: right;\">\n      <th></th>\n      <th>household_id</th>\n      <th>people_in_household</th>\n      <th>bathrooms</th>\n      <th>bedrooms</th>\n      <th>vehicles</th>\n      <th>bicycles</th>\n      <th>motorcycles</th>\n      <th>dwelling_type</th>\n      <th>income</th>\n      <th>household_tenure</th>\n      <th>piped_water_supply</th>\n      <th>street_pavement</th>\n      <th>private_parking_space</th>\n      <th>year_of_newest_vehicle</th>\n      <th>domestic_worker</th>\n      <th>cable_tv</th>\n      <th>social_assistence</th>\n      <th>expf_household</th>\n      <th>macrozone</th>\n      <th>administrative_region</th>\n      <th>are_many_cars</th>\n    </tr>\n  </thead>\n  <tbody>\n    <tr>\n      <th>0</th>\n      <td>3</td>\n      <td>2</td>\n      <td>2</td>\n      <td>2</td>\n      <td>1</td>\n      <td>0</td>\n      <td>0</td>\n      <td>Brickwork house</td>\n      <td>More than R$ 4,400 and less than R$ 8,800</td>\n      <td>Owned</td>\n      <td>Yes, available at least in one room</td>\n      <td>Asphalt, concrete</td>\n      <td>Available</td>\n      <td>1995 to 1999</td>\n      <td>No domestic workers</td>\n      <td>Available</td>\n      <td>No</td>\n      <td>36.9016</td>\n      <td>315</td>\n      <td>Taguatinga</td>\n      <td>False</td>\n    </tr>\n    <tr>\n      <th>1</th>\n      <td>4</td>\n      <td>4</td>\n      <td>1</td>\n      <td>3</td>\n      <td>3</td>\n      <td>0</td>\n      <td>0</td>\n      <td>Brickwork house</td>\n      <td>More than R$ 1,760 and less than R$ 2,640</td>\n      <td>Owned</td>\n      <td>Yes, available at least in one room</td>\n      <td>Asphalt, concrete</td>\n      <td>Available</td>\n      <td>2005 to 2009</td>\n      <td>No domestic workers</td>\n      <td>Available</td>\n      <td>No</td>\n      <td>33.7800</td>\n      <td>315</td>\n      <td>Taguatinga</td>\n      <td>True</td>\n    </tr>\n    <tr>\n      <th>2</th>\n      <td>7</td>\n      <td>3</td>\n      <td>2</td>\n      <td>3</td>\n      <td>1</td>\n      <td>0</td>\n      <td>0</td>\n      <td>Brickwork house</td>\n      <td>More than R$ 2,640 and less than R$ 4,400</td>\n      <td>Owned</td>\n      <td>Yes, available at least in one room</td>\n      <td>Asphalt, concrete</td>\n      <td>Available</td>\n      <td>NaN</td>\n      <td>No domestic workers</td>\n      <td>Available</td>\n      <td>No</td>\n      <td>37.1846</td>\n      <td>315</td>\n      <td>Taguatinga</td>\n      <td>False</td>\n    </tr>\n  </tbody>\n</table>\n</div>"
     },
     "metadata": {},
     "execution_count": 23
    }
   ],
   "source": [
    "# Create a column to check if there are many vehicles in the household or not\n",
    "check_many_cars = pd.Series(household['vehicles']>=2)\n",
    "household = pd.concat([household, check_many_cars.rename('are_many_cars')], axis=1)\n",
    "household.head(3)"
   ]
  },
  {
   "cell_type": "code",
   "execution_count": 28,
   "metadata": {},
   "outputs": [
    {
     "output_type": "stream",
     "name": "stdout",
     "text": [
      "are_many_cars\nFalse    14454\nTrue      4798\nName: household_id, dtype: int64\n"
     ]
    }
   ],
   "source": [
    "# Grouping by this new column\n",
    "print(household.groupby(household.are_many_cars).household_id.count())"
   ]
  }
 ]
}